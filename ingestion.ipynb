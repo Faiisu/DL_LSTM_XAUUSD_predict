{
 "cells": [
  {
   "cell_type": "markdown",
   "id": "79505587",
   "metadata": {},
   "source": [
    "# MT5 Data Ingestion — Save to CSV\n",
    "\n",
    "This notebook only handles data ingestion from MetaTrader 5 (MT5) and saves the result to CSV.\n",
    "- Works on Windows with MT5 64-bit installed and logged-in.\n",
    "- Uses robust chunked fetching and ensures the symbol is visible in Market Watch.\n",
    "- Comments are in English for clarity."
   ]
  },
  {
   "cell_type": "code",
   "execution_count": 1,
   "id": "6da5a214",
   "metadata": {},
   "outputs": [
    {
     "name": "stderr",
     "output_type": "stream",
     "text": [
      "\n",
      "[notice] A new release of pip is available: 24.3.1 -> 25.2\n",
      "[notice] To update, run: python.exe -m pip install --upgrade pip\n"
     ]
    }
   ],
   "source": [
    "# Install required packages for ingestion only\n",
    "!pip install -q numpy pandas pytz tqdm MetaTrader5\n"
   ]
  },
  {
   "cell_type": "markdown",
   "id": "8b5e67cb",
   "metadata": {},
   "source": [
    "## Parameters\n",
    "Adjust these before running. If you have multiple MT5 terminals, set `TERMINAL_PATH`.\n",
    "If MT5 is already open and logged-in, you can leave `TERMINAL_PATH = None`."
   ]
  },
  {
   "cell_type": "code",
   "execution_count": 2,
   "id": "9f873f26",
   "metadata": {},
   "outputs": [
    {
     "name": "stdout",
     "output_type": "stream",
     "text": [
      "Python arch: 64 bit\n",
      "Windows version: 10.0.26100\n"
     ]
    }
   ],
   "source": [
    "import os, struct, platform\n",
    "from datetime import datetime, timedelta\n",
    "\n",
    "# MT5 terminal path (use raw string or forward slashes). Set to None to rely on a running instance.\n",
    "TERMINAL_PATH = None  # e.g. r'C:\\Program Files\\MetaTrader 5 EXNESS\\terminal64.exe'\n",
    "\n",
    "# Symbol and timeframe (ensure the exact broker symbol, e.g., 'XAUUSD', 'XAUUSDm', etc.)\n",
    "SYMBOL = 'XAUUSDm'\n",
    "TIMEFRAME = 'M1'        # One of: M1/M5/M15/M30/H1/H4/D1...\n",
    "YEARS_BACK = 3          # How many years back to fetch\n",
    "\n",
    "# Output directory and filename (auto timestamp if None)\n",
    "OUTPUT_DIR = 'data'\n",
    "OUTPUT_FILENAME = TIMEFRAME + \"_Y\"+ str(YEARS_BACK) + '.csv'  # e.g., 'XAUUSD_M5.csv' or leave None to auto-name\n",
    "\n",
    "print('Python arch:', struct.calcsize('P')*8, 'bit')\n",
    "print('Windows version:', platform.version())\n"
   ]
  },
  {
   "cell_type": "markdown",
   "id": "a9233e0a",
   "metadata": {},
   "source": [
    "## Connect to MT5\n",
    "- Tries to initialize with explicit path first, then without path (requires MT5 running).\n",
    "- Print diagnostics and last error if initialization fails."
   ]
  },
  {
   "cell_type": "code",
   "execution_count": 3,
   "id": "cc4d5c9b",
   "metadata": {},
   "outputs": [
    {
     "name": "stdout",
     "output_type": "stream",
     "text": [
      "MT5 connected. Version: (500, 5331, '8 Oct 2025')\n",
      "Account: AccountInfo(login=206414252, trade_mode=0, leverage=2000, limit_orders=1024, margin_so_mode=0, trade_allowed=False, trade_expert=True, margin_mode=2, currency_digits=2, fifo_close=False, balance=0.0, credit=0.0, profit=0.0, equity=0.0, margin=0.0, margin_free=0.0, margin_level=0.0, margin_so_call=60.0, margin_so_so=0.0, margin_initial=0.0, margin_maintenance=0.0, assets=0.0, liabilities=0.0, commission_blocked=0.0, name='Standard', server='Exness-MT5Trial7', currency='USD', company='Exness Technologies Ltd')\n",
      "Terminal: TerminalInfo(community_account=False, community_connection=False, connected=True, dlls_allowed=False, trade_allowed=False, tradeapi_disabled=False, email_enabled=False, ftp_enabled=False, notifications_enabled=False, mqid=False, build=5331, maxbars=100000, codepage=0, ping_last=27022, community_balance=0.0, retransmission=0.0, company='Exness Technologies Ltd', name='MetaTrader 5 EXNESS', language='English', path='C:\\\\Program Files\\\\MetaTrader 5 EXNESS', data_path='C:\\\\Users\\\\sukum\\\\AppData\\\\Roaming\\\\MetaQuotes\\\\Terminal\\\\53785E099C927DB68A545C249CDBCE06', commondata_path='C:\\\\Users\\\\sukum\\\\AppData\\\\Roaming\\\\MetaQuotes\\\\Terminal\\\\Common')\n"
     ]
    }
   ],
   "source": [
    "import MetaTrader5 as mt5\n",
    "import contextlib\n",
    "# Clean any previous session\n",
    "with contextlib.suppress(Exception):\n",
    "    mt5.shutdown()\n",
    "\n",
    "def try_init(with_path: bool = True) -> bool:\n",
    "    \"\"\"Try to initialize MT5 with or without explicit terminal path.\n",
    "    Add login/server/password here if your terminal is not pre-logged-in.\n",
    "    \"\"\"\n",
    "    if with_path and TERMINAL_PATH:\n",
    "        ok = mt5.initialize(path=TERMINAL_PATH)\n",
    "    elif with_path:\n",
    "        # No explicit path provided\n",
    "        ok = mt5.initialize()\n",
    "    else:\n",
    "        ok = mt5.initialize()\n",
    "    if not ok:\n",
    "        print('init failed:', mt5.last_error())\n",
    "    return ok\n",
    "\n",
    "# 1) Try with provided path (if any)\n",
    "if not try_init(with_path=True):\n",
    "    # 2) Try without path (requires MT5 running and logged-in)\n",
    "    print('Retrying without explicit path... (make sure MT5 is running)')\n",
    "    if not try_init(with_path=False):\n",
    "        raise RuntimeError(f'Could not initialize MT5. Last error: {mt5.last_error()}')\n",
    "\n",
    "print('MT5 connected. Version:', mt5.version())\n",
    "print('Account:', mt5.account_info())\n",
    "print('Terminal:', mt5.terminal_info())\n"
   ]
  },
  {
   "cell_type": "markdown",
   "id": "5e780e6e",
   "metadata": {},
   "source": [
    "## Symbol discovery (optional)\n",
    "List symbols that contain 'XAU' to help you pick the exact broker symbol."
   ]
  },
  {
   "cell_type": "code",
   "execution_count": 4,
   "id": "5541e880",
   "metadata": {},
   "outputs": [
    {
     "name": "stdout",
     "output_type": "stream",
     "text": [
      "Found XAU-like symbols: ['BTCXAUm', 'XAUAUDm', 'XAUEURm', 'XAUGBPm', 'XAUUSDm']\n"
     ]
    },
    {
     "data": {
      "text/plain": [
       "True"
      ]
     },
     "execution_count": 4,
     "metadata": {},
     "output_type": "execute_result"
    }
   ],
   "source": [
    "# Discover available XAU symbols\n",
    "cands = mt5.symbols_get('*XAU*')\n",
    "print('Found XAU-like symbols:', [s.name for s in cands])\n",
    "# Make sure the target symbol is visible in Market Watch\n",
    "mt5.symbol_select(SYMBOL, True)\n"
   ]
  },
  {
   "cell_type": "markdown",
   "id": "4221d473",
   "metadata": {},
   "source": [
    "## Robust fetch utilities\n",
    "Chunked copy using `copy_rates_range` in 30-day windows. Ensures symbol visibility and returns a tidy DataFrame."
   ]
  },
  {
   "cell_type": "code",
   "execution_count": 5,
   "id": "61d73b83",
   "metadata": {},
   "outputs": [
    {
     "name": "stderr",
     "output_type": "stream",
     "text": [
      "c:\\Users\\sukum\\OneDrive\\Desktop\\auto_trading_project\\.venv\\Lib\\site-packages\\tqdm\\auto.py:21: TqdmWarning: IProgress not found. Please update jupyter and ipywidgets. See https://ipywidgets.readthedocs.io/en/stable/user_install.html\n",
      "  from .autonotebook import tqdm as notebook_tqdm\n"
     ]
    }
   ],
   "source": [
    "import pandas as pd\n",
    "import numpy as np\n",
    "import contextlib\n",
    "from tqdm.auto import tqdm\n",
    "\n",
    "# Map string timeframe to MT5 constant\n",
    "def _infer_mt5_timeframe(tf: str):\n",
    "    mapping = {\n",
    "        'M1': mt5.TIMEFRAME_M1, 'M2': mt5.TIMEFRAME_M2, 'M3': mt5.TIMEFRAME_M3, 'M4': mt5.TIMEFRAME_M4,\n",
    "        'M5': mt5.TIMEFRAME_M5, 'M6': mt5.TIMEFRAME_M6, 'M10': mt5.TIMEFRAME_M10, 'M12': mt5.TIMEFRAME_M12,\n",
    "        'M15': mt5.TIMEFRAME_M15, 'M20': mt5.TIMEFRAME_M20, 'M30': mt5.TIMEFRAME_M30,\n",
    "        'H1': mt5.TIMEFRAME_H1, 'H2': mt5.TIMEFRAME_H2, 'H3': mt5.TIMEFRAME_H3, 'H4': mt5.TIMEFRAME_H4,\n",
    "        'H6': mt5.TIMEFRAME_H6, 'H8': mt5.TIMEFRAME_H8, 'H12': mt5.TIMEFRAME_H12,\n",
    "        'D1': mt5.TIMEFRAME_D1, 'W1': mt5.TIMEFRAME_W1, 'MN1': mt5.TIMEFRAME_MN1\n",
    "    }\n",
    "    return mapping[tf]\n",
    "\n",
    "def ensure_symbol_visible(symbol: str):\n",
    "    info = mt5.symbol_info(symbol)\n",
    "    if info is None:\n",
    "        raise ValueError(f'Symbol not found on this server: {symbol}')\n",
    "    if not info.visible:\n",
    "        if not mt5.symbol_select(symbol, True):\n",
    "            raise RuntimeError(f'symbol_select failed for {symbol}')\n",
    "\n",
    "def mt5_fetch_rates_robust(symbol: str, timeframe: str, years_back: int) -> pd.DataFrame:\n",
    "    \"\"\"\n",
    "    Fetch OHLCV data from MT5 in 30-day chunks to improve reliability.\n",
    "    Uses UTC-naive datetimes per MT5 API expectations. Returns a tidy DataFrame indexed by UTC.\n",
    "    \"\"\"\n",
    "    tf = _infer_mt5_timeframe(timeframe)\n",
    "    ensure_symbol_visible(symbol)\n",
    "\n",
    "    date_to = datetime.utcnow()\n",
    "    date_from = date_to - timedelta(days=365*years_back)\n",
    "\n",
    "    frames = []\n",
    "    step = timedelta(days=30)\n",
    "    cur = date_from\n",
    "    with tqdm(total=(date_to - date_from).days//30 + 1, desc='Fetching') as pbar:\n",
    "        while cur < date_to:\n",
    "            nxt = min(cur + step, date_to)\n",
    "            part = mt5.copy_rates_range(symbol, tf, cur, nxt)\n",
    "            if part is None:\n",
    "                print('copy_rates_range failed:', mt5.last_error(), cur, nxt)\n",
    "                cur = nxt\n",
    "                pbar.update(1)\n",
    "                continue\n",
    "            if len(part) == 0:\n",
    "                cur = nxt\n",
    "                pbar.update(1)\n",
    "                continue\n",
    "            frames.append(pd.DataFrame(part))\n",
    "            cur = nxt\n",
    "            pbar.update(1)\n",
    "\n",
    "    if not frames:\n",
    "        raise ValueError('No data returned — check symbol name, Market Watch visibility, login, and timeframe.')\n",
    "\n",
    "    df = pd.concat(frames, ignore_index=True)\n",
    "    df.drop_duplicates(subset='time', inplace=True)\n",
    "    df['time'] = pd.to_datetime(df['time'], unit='s', utc=True)\n",
    "    df = df.rename(columns={'open':'Open','high':'High','low':'Low','close':'Close',\n",
    "                            'tick_volume':'TickVolume','spread':'Spread'})\n",
    "    cols = ['time','Open','High','Low','Close','TickVolume','Spread','real_volume']\n",
    "    df = df[cols].set_index('time').sort_index()\n",
    "    return df\n"
   ]
  },
  {
   "cell_type": "markdown",
   "id": "2c577f6e",
   "metadata": {},
   "source": [
    "## Run fetch and save CSV\n",
    "Creates the output directory if needed and writes a CSV with a timestamp by default."
   ]
  },
  {
   "cell_type": "code",
   "execution_count": 6,
   "id": "f82b6b0a",
   "metadata": {},
   "outputs": [
    {
     "name": "stderr",
     "output_type": "stream",
     "text": [
      "C:\\Users\\sukum\\AppData\\Local\\Temp\\ipykernel_22512\\466593058.py:34: DeprecationWarning: datetime.datetime.utcnow() is deprecated and scheduled for removal in a future version. Use timezone-aware objects to represent datetimes in UTC: datetime.datetime.now(datetime.UTC).\n",
      "  date_to = datetime.utcnow()\n",
      "Fetching: 100%|██████████| 37/37 [00:00<00:00, 2705.81it/s]"
     ]
    },
    {
     "name": "stdout",
     "output_type": "stream",
     "text": [
      "Data shape: (99655, 7)\n"
     ]
    },
    {
     "name": "stderr",
     "output_type": "stream",
     "text": [
      "\n"
     ]
    },
    {
     "data": {
      "text/html": [
       "<div>\n",
       "<style scoped>\n",
       "    .dataframe tbody tr th:only-of-type {\n",
       "        vertical-align: middle;\n",
       "    }\n",
       "\n",
       "    .dataframe tbody tr th {\n",
       "        vertical-align: top;\n",
       "    }\n",
       "\n",
       "    .dataframe thead th {\n",
       "        text-align: right;\n",
       "    }\n",
       "</style>\n",
       "<table border=\"1\" class=\"dataframe\">\n",
       "  <thead>\n",
       "    <tr style=\"text-align: right;\">\n",
       "      <th></th>\n",
       "      <th>Open</th>\n",
       "      <th>High</th>\n",
       "      <th>Low</th>\n",
       "      <th>Close</th>\n",
       "      <th>TickVolume</th>\n",
       "      <th>Spread</th>\n",
       "      <th>real_volume</th>\n",
       "    </tr>\n",
       "    <tr>\n",
       "      <th>time</th>\n",
       "      <th></th>\n",
       "      <th></th>\n",
       "      <th></th>\n",
       "      <th></th>\n",
       "      <th></th>\n",
       "      <th></th>\n",
       "      <th></th>\n",
       "    </tr>\n",
       "  </thead>\n",
       "  <tbody>\n",
       "    <tr>\n",
       "      <th>2025-07-03 18:02:00+00:00</th>\n",
       "      <td>3328.741</td>\n",
       "      <td>3329.104</td>\n",
       "      <td>3328.741</td>\n",
       "      <td>3329.049</td>\n",
       "      <td>46</td>\n",
       "      <td>160</td>\n",
       "      <td>0</td>\n",
       "    </tr>\n",
       "    <tr>\n",
       "      <th>2025-07-03 18:03:00+00:00</th>\n",
       "      <td>3329.049</td>\n",
       "      <td>3329.049</td>\n",
       "      <td>3328.882</td>\n",
       "      <td>3329.027</td>\n",
       "      <td>23</td>\n",
       "      <td>160</td>\n",
       "      <td>0</td>\n",
       "    </tr>\n",
       "    <tr>\n",
       "      <th>2025-07-03 18:04:00+00:00</th>\n",
       "      <td>3329.026</td>\n",
       "      <td>3329.026</td>\n",
       "      <td>3328.598</td>\n",
       "      <td>3328.737</td>\n",
       "      <td>57</td>\n",
       "      <td>160</td>\n",
       "      <td>0</td>\n",
       "    </tr>\n",
       "    <tr>\n",
       "      <th>2025-07-03 18:05:00+00:00</th>\n",
       "      <td>3328.740</td>\n",
       "      <td>3329.134</td>\n",
       "      <td>3328.647</td>\n",
       "      <td>3329.016</td>\n",
       "      <td>52</td>\n",
       "      <td>160</td>\n",
       "      <td>0</td>\n",
       "    </tr>\n",
       "    <tr>\n",
       "      <th>2025-07-03 18:06:00+00:00</th>\n",
       "      <td>3329.015</td>\n",
       "      <td>3329.129</td>\n",
       "      <td>3328.962</td>\n",
       "      <td>3328.962</td>\n",
       "      <td>26</td>\n",
       "      <td>160</td>\n",
       "      <td>0</td>\n",
       "    </tr>\n",
       "  </tbody>\n",
       "</table>\n",
       "</div>"
      ],
      "text/plain": [
       "                               Open      High       Low     Close  TickVolume  \\\n",
       "time                                                                            \n",
       "2025-07-03 18:02:00+00:00  3328.741  3329.104  3328.741  3329.049          46   \n",
       "2025-07-03 18:03:00+00:00  3329.049  3329.049  3328.882  3329.027          23   \n",
       "2025-07-03 18:04:00+00:00  3329.026  3329.026  3328.598  3328.737          57   \n",
       "2025-07-03 18:05:00+00:00  3328.740  3329.134  3328.647  3329.016          52   \n",
       "2025-07-03 18:06:00+00:00  3329.015  3329.129  3328.962  3328.962          26   \n",
       "\n",
       "                           Spread  real_volume  \n",
       "time                                            \n",
       "2025-07-03 18:02:00+00:00     160            0  \n",
       "2025-07-03 18:03:00+00:00     160            0  \n",
       "2025-07-03 18:04:00+00:00     160            0  \n",
       "2025-07-03 18:05:00+00:00     160            0  \n",
       "2025-07-03 18:06:00+00:00     160            0  "
      ]
     },
     "metadata": {},
     "output_type": "display_data"
    },
    {
     "name": "stdout",
     "output_type": "stream",
     "text": [
      "Saved CSV to: data\\M1_Y3.csv\n"
     ]
    }
   ],
   "source": [
    "# Fetch data\n",
    "df = mt5_fetch_rates_robust(SYMBOL, TIMEFRAME, YEARS_BACK)\n",
    "print('Data shape:', df.shape)\n",
    "display(df.head())\n",
    "\n",
    "# Ensure output directory exists\n",
    "os.makedirs(OUTPUT_DIR, exist_ok=True)\n",
    "\n",
    "# Build filename if not provided\n",
    "if OUTPUT_FILENAME is None:\n",
    "    ts = datetime.utcnow().strftime('%Y%m%d_%H%M%S')\n",
    "    OUTPUT_FILENAME = f'{SYMBOL}_{TIMEFRAME}_{ts}.csv'\n",
    "\n",
    "out_path = os.path.join(OUTPUT_DIR, OUTPUT_FILENAME)\n",
    "df.to_csv(out_path, index=True)\n",
    "print('Saved CSV to:', out_path)\n"
   ]
  },
  {
   "cell_type": "markdown",
   "id": "b95d1349",
   "metadata": {},
   "source": [
    "## Cleanup (optional)\n",
    "Shutdown the MT5 connection when done."
   ]
  },
  {
   "cell_type": "code",
   "execution_count": 7,
   "id": "1d6845bb",
   "metadata": {},
   "outputs": [
    {
     "name": "stdout",
     "output_type": "stream",
     "text": [
      "MT5 shutdown.\n"
     ]
    }
   ],
   "source": [
    "with contextlib.suppress(Exception):\n",
    "    mt5.shutdown()\n",
    "print('MT5 shutdown.')"
   ]
  }
 ],
 "metadata": {
  "kernelspec": {
   "display_name": ".venv",
   "language": "python",
   "name": "python3"
  },
  "language_info": {
   "codemirror_mode": {
    "name": "ipython",
    "version": 3
   },
   "file_extension": ".py",
   "mimetype": "text/x-python",
   "name": "python",
   "nbconvert_exporter": "python",
   "pygments_lexer": "ipython3",
   "version": "3.13.1"
  }
 },
 "nbformat": 4,
 "nbformat_minor": 5
}
