{
 "cells": [
  {
   "cell_type": "markdown",
   "id": "75437b98",
   "metadata": {},
   "source": [
    "## LSTM GOLD PREDICT"
   ]
  },
  {
   "cell_type": "code",
   "execution_count": 1,
   "id": "5023d0c8",
   "metadata": {},
   "outputs": [],
   "source": [
    "import pandas as pd"
   ]
  },
  {
   "cell_type": "code",
   "execution_count": 7,
   "id": "e3c34db9",
   "metadata": {},
   "outputs": [
    {
     "data": {
      "text/html": [
       "<div>\n",
       "<style scoped>\n",
       "    .dataframe tbody tr th:only-of-type {\n",
       "        vertical-align: middle;\n",
       "    }\n",
       "\n",
       "    .dataframe tbody tr th {\n",
       "        vertical-align: top;\n",
       "    }\n",
       "\n",
       "    .dataframe thead th {\n",
       "        text-align: right;\n",
       "    }\n",
       "</style>\n",
       "<table border=\"1\" class=\"dataframe\">\n",
       "  <thead>\n",
       "    <tr style=\"text-align: right;\">\n",
       "      <th></th>\n",
       "      <th>time</th>\n",
       "      <th>Open</th>\n",
       "      <th>High</th>\n",
       "      <th>Low</th>\n",
       "      <th>Close</th>\n",
       "      <th>TickVolume</th>\n",
       "      <th>Spread</th>\n",
       "      <th>real_volume</th>\n",
       "    </tr>\n",
       "  </thead>\n",
       "  <tbody>\n",
       "    <tr>\n",
       "      <th>0</th>\n",
       "      <td>2025-07-03 18:02:00+00:00</td>\n",
       "      <td>3328.741</td>\n",
       "      <td>3329.104</td>\n",
       "      <td>3328.741</td>\n",
       "      <td>3329.049</td>\n",
       "      <td>46</td>\n",
       "      <td>160</td>\n",
       "      <td>0</td>\n",
       "    </tr>\n",
       "    <tr>\n",
       "      <th>1</th>\n",
       "      <td>2025-07-03 18:03:00+00:00</td>\n",
       "      <td>3329.049</td>\n",
       "      <td>3329.049</td>\n",
       "      <td>3328.882</td>\n",
       "      <td>3329.027</td>\n",
       "      <td>23</td>\n",
       "      <td>160</td>\n",
       "      <td>0</td>\n",
       "    </tr>\n",
       "    <tr>\n",
       "      <th>2</th>\n",
       "      <td>2025-07-03 18:04:00+00:00</td>\n",
       "      <td>3329.026</td>\n",
       "      <td>3329.026</td>\n",
       "      <td>3328.598</td>\n",
       "      <td>3328.737</td>\n",
       "      <td>57</td>\n",
       "      <td>160</td>\n",
       "      <td>0</td>\n",
       "    </tr>\n",
       "    <tr>\n",
       "      <th>3</th>\n",
       "      <td>2025-07-03 18:05:00+00:00</td>\n",
       "      <td>3328.740</td>\n",
       "      <td>3329.134</td>\n",
       "      <td>3328.647</td>\n",
       "      <td>3329.016</td>\n",
       "      <td>52</td>\n",
       "      <td>160</td>\n",
       "      <td>0</td>\n",
       "    </tr>\n",
       "    <tr>\n",
       "      <th>4</th>\n",
       "      <td>2025-07-03 18:06:00+00:00</td>\n",
       "      <td>3329.015</td>\n",
       "      <td>3329.129</td>\n",
       "      <td>3328.962</td>\n",
       "      <td>3328.962</td>\n",
       "      <td>26</td>\n",
       "      <td>160</td>\n",
       "      <td>0</td>\n",
       "    </tr>\n",
       "  </tbody>\n",
       "</table>\n",
       "</div>"
      ],
      "text/plain": [
       "                        time      Open      High       Low     Close  \\\n",
       "0  2025-07-03 18:02:00+00:00  3328.741  3329.104  3328.741  3329.049   \n",
       "1  2025-07-03 18:03:00+00:00  3329.049  3329.049  3328.882  3329.027   \n",
       "2  2025-07-03 18:04:00+00:00  3329.026  3329.026  3328.598  3328.737   \n",
       "3  2025-07-03 18:05:00+00:00  3328.740  3329.134  3328.647  3329.016   \n",
       "4  2025-07-03 18:06:00+00:00  3329.015  3329.129  3328.962  3328.962   \n",
       "\n",
       "   TickVolume  Spread  real_volume  \n",
       "0          46     160            0  \n",
       "1          23     160            0  \n",
       "2          57     160            0  \n",
       "3          52     160            0  \n",
       "4          26     160            0  "
      ]
     },
     "execution_count": 7,
     "metadata": {},
     "output_type": "execute_result"
    }
   ],
   "source": [
    "df = pd.read_csv(\"data/M1_Y1.csv\")\n",
    "df.head()"
   ]
  },
  {
   "cell_type": "markdown",
   "id": "a726a009",
   "metadata": {},
   "source": [
    "# LSTM model"
   ]
  },
  {
   "cell_type": "code",
   "execution_count": null,
   "id": "8b5cde3a",
   "metadata": {},
   "outputs": [],
   "source": []
  }
 ],
 "metadata": {
  "kernelspec": {
   "display_name": ".venv",
   "language": "python",
   "name": "python3"
  },
  "language_info": {
   "codemirror_mode": {
    "name": "ipython",
    "version": 3
   },
   "file_extension": ".py",
   "mimetype": "text/x-python",
   "name": "python",
   "nbconvert_exporter": "python",
   "pygments_lexer": "ipython3",
   "version": "3.13.1"
  }
 },
 "nbformat": 4,
 "nbformat_minor": 5
}
