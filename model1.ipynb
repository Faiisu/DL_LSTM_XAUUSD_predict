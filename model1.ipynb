{
 "cells": [
  {
   "cell_type": "markdown",
   "id": "75437b98",
   "metadata": {},
   "source": [
    "## LSTM GOLD PREDICT"
   ]
  },
  {
   "cell_type": "code",
   "execution_count": 1,
   "id": "5023d0c8",
   "metadata": {},
   "outputs": [],
   "source": [
    "import pandas as pd"
   ]
  },
  {
   "cell_type": "code",
   "execution_count": 2,
   "id": "e3c34db9",
   "metadata": {},
   "outputs": [
    {
     "data": {
      "text/html": [
       "<div>\n",
       "<style scoped>\n",
       "    .dataframe tbody tr th:only-of-type {\n",
       "        vertical-align: middle;\n",
       "    }\n",
       "\n",
       "    .dataframe tbody tr th {\n",
       "        vertical-align: top;\n",
       "    }\n",
       "\n",
       "    .dataframe thead th {\n",
       "        text-align: right;\n",
       "    }\n",
       "</style>\n",
       "<table border=\"1\" class=\"dataframe\">\n",
       "  <thead>\n",
       "    <tr style=\"text-align: right;\">\n",
       "      <th></th>\n",
       "      <th>time</th>\n",
       "      <th>Open</th>\n",
       "      <th>High</th>\n",
       "      <th>Low</th>\n",
       "      <th>Close</th>\n",
       "      <th>TickVolume</th>\n",
       "      <th>Spread</th>\n",
       "      <th>real_volume</th>\n",
       "    </tr>\n",
       "  </thead>\n",
       "  <tbody>\n",
       "    <tr>\n",
       "      <th>0</th>\n",
       "      <td>2025-07-03 18:02:00+00:00</td>\n",
       "      <td>3328.741</td>\n",
       "      <td>3329.104</td>\n",
       "      <td>3328.741</td>\n",
       "      <td>3329.049</td>\n",
       "      <td>46</td>\n",
       "      <td>160</td>\n",
       "      <td>0</td>\n",
       "    </tr>\n",
       "    <tr>\n",
       "      <th>1</th>\n",
       "      <td>2025-07-03 18:03:00+00:00</td>\n",
       "      <td>3329.049</td>\n",
       "      <td>3329.049</td>\n",
       "      <td>3328.882</td>\n",
       "      <td>3329.027</td>\n",
       "      <td>23</td>\n",
       "      <td>160</td>\n",
       "      <td>0</td>\n",
       "    </tr>\n",
       "    <tr>\n",
       "      <th>2</th>\n",
       "      <td>2025-07-03 18:04:00+00:00</td>\n",
       "      <td>3329.026</td>\n",
       "      <td>3329.026</td>\n",
       "      <td>3328.598</td>\n",
       "      <td>3328.737</td>\n",
       "      <td>57</td>\n",
       "      <td>160</td>\n",
       "      <td>0</td>\n",
       "    </tr>\n",
       "    <tr>\n",
       "      <th>3</th>\n",
       "      <td>2025-07-03 18:05:00+00:00</td>\n",
       "      <td>3328.740</td>\n",
       "      <td>3329.134</td>\n",
       "      <td>3328.647</td>\n",
       "      <td>3329.016</td>\n",
       "      <td>52</td>\n",
       "      <td>160</td>\n",
       "      <td>0</td>\n",
       "    </tr>\n",
       "    <tr>\n",
       "      <th>4</th>\n",
       "      <td>2025-07-03 18:06:00+00:00</td>\n",
       "      <td>3329.015</td>\n",
       "      <td>3329.129</td>\n",
       "      <td>3328.962</td>\n",
       "      <td>3328.962</td>\n",
       "      <td>26</td>\n",
       "      <td>160</td>\n",
       "      <td>0</td>\n",
       "    </tr>\n",
       "  </tbody>\n",
       "</table>\n",
       "</div>"
      ],
      "text/plain": [
       "                        time      Open      High       Low     Close  \\\n",
       "0  2025-07-03 18:02:00+00:00  3328.741  3329.104  3328.741  3329.049   \n",
       "1  2025-07-03 18:03:00+00:00  3329.049  3329.049  3328.882  3329.027   \n",
       "2  2025-07-03 18:04:00+00:00  3329.026  3329.026  3328.598  3328.737   \n",
       "3  2025-07-03 18:05:00+00:00  3328.740  3329.134  3328.647  3329.016   \n",
       "4  2025-07-03 18:06:00+00:00  3329.015  3329.129  3328.962  3328.962   \n",
       "\n",
       "   TickVolume  Spread  real_volume  \n",
       "0          46     160            0  \n",
       "1          23     160            0  \n",
       "2          57     160            0  \n",
       "3          52     160            0  \n",
       "4          26     160            0  "
      ]
     },
     "execution_count": 2,
     "metadata": {},
     "output_type": "execute_result"
    }
   ],
   "source": [
    "df = pd.read_csv(\"data/M1_Y1.csv\")\n",
    "df.head()"
   ]
  },
  {
   "cell_type": "markdown",
   "id": "39232142",
   "metadata": {},
   "source": [
    "## LSTM Model"
   ]
  },
  {
   "cell_type": "code",
   "execution_count": 3,
   "id": "acf87b31",
   "metadata": {},
   "outputs": [],
   "source": [
    "import torch\n",
    "import torch.nn as nn\n",
    "import torch.optim as optim\n",
    "from torch.utils.data import Dataset, DataLoader\n",
    "\n",
    "import random"
   ]
  },
  {
   "cell_type": "code",
   "execution_count": 4,
   "id": "33db48ef",
   "metadata": {},
   "outputs": [],
   "source": [
    "'''\n",
    "X: [batch, time, features] = [B, 120, F]\n",
    "ราคา/เทคนิคอล: Close (หรือ OHLCV + ฟีเจอร์ที่วิศวกรรมเพิ่ม)\n",
    "อารมณ์ข่าว: เวกเตอร์ความน่าจะเป็น FinBERT (3 มิติ) หรือคะแนนรวมเดียว\n",
    "ฟีเจอร์เวลา/ความผันผวนตามต้องการ\n",
    "y: [batch, 1] ราคาถัดไป (หรือผลตอบแทน)\n",
    "อินพุตสำหรับเชื่อม Trading Bot\n",
    "\n",
    "กฎตัดสินใจ: ใช้เกณฑ์บนค่าที่ทำนาย (เช่น delta > threshold = bullish)\n",
    "ต้นทุนเทรด: spread/commission/slippage ใช้กรอง/ปรับสัญญาณ\n",
    "ความเสี่ยง: ขนาดสถานะ (เช่น volatility targeting), time stop/daily limit\n",
    "'''\n",
    "\n",
    "class GoldRNN(nn.Module):\n",
    "    \n",
    "    def __init__(self, input_size=1, hidden_size=64, num_layers=1):\n",
    "        super().__init__()\n",
    "        self.lstm = nn.LSTM(input_size, hidden_size, num_layers, batch_first=True)\n",
    "        self.fc = nn.Linear(hidden_size, 1)\n",
    "        \n",
    "    def forward(self, x):\n",
    "        out, (h, c) = self.lstm(x)\n",
    "        out = out[:, -1, :]\n",
    "        out = self.fc(out)\n",
    "        return out.squeeze(1)\n",
    "    \n"
   ]
  },
  {
   "cell_type": "code",
   "execution_count": 5,
   "id": "f55ebdf7",
   "metadata": {},
   "outputs": [
    {
     "name": "stdout",
     "output_type": "stream",
     "text": [
      "(99517, 120, 1) (99517,)\n"
     ]
    }
   ],
   "source": [
    "from sklearn.preprocessing import MinMaxScaler\n",
    "import numpy as np\n",
    "\n",
    "filter_df = df[[\"Close\"]]\n",
    "filter_df = filter_df.dropna()\n",
    "\n",
    "filter_df['target'] = (filter_df[\"Close\"].shift(-1) > filter_df['Close']).astype(int)\n",
    "\n",
    "\n",
    "scaler = MinMaxScaler()\n",
    "filter_df['close_scaled'] = scaler.fit_transform(filter_df[['Close']])\n",
    "filter_df.head()\n",
    "\n",
    "\n",
    "def create_sequences(data, labels, window_size=30):\n",
    "    x, y= [], []\n",
    "    for i in range(len(data) -window_size):\n",
    "        x.append(data[i:i+window_size])\n",
    "        y.append(labels[i+window_size])\n",
    "        \n",
    "    return np.array(x), np.array(y)\n",
    "\n",
    "X, y = create_sequences(filter_df['close_scaled'].values, filter_df['target'].values, window_size=120)\n",
    "\n",
    "X = np.expand_dims(X, axis=-1) #fit with RNN\n",
    "\n",
    "print(X.shape, y.shape)  # (N, window_size, 1), (N,)"
   ]
  },
  {
   "cell_type": "code",
   "execution_count": 6,
   "id": "966581b7",
   "metadata": {},
   "outputs": [],
   "source": [
    "from sklearn.model_selection import train_test_split\n",
    "from torch.utils.data import TensorDataset, DataLoader\n",
    "\n",
    "X_train, X_test, y_train, y_test = train_test_split(X, y, test_size=0.2, shuffle=False)\n",
    "\n",
    "X_train = torch.tensor(X_train, dtype=torch.float32)\n",
    "y_train = torch.tensor(y_train, dtype=torch.float32)\n",
    "X_test = torch.tensor(X_test, dtype=torch.float32)\n",
    "y_test = torch.tensor(y_test, dtype=torch.float32)\n",
    "\n",
    "train_dl = DataLoader(TensorDataset(X_train, y_train), batch_size=64, shuffle=True)\n",
    "test_dl = DataLoader(TensorDataset(X_test, y_test), batch_size=64, shuffle=False)"
   ]
  },
  {
   "cell_type": "code",
   "execution_count": 7,
   "id": "80f0aa90",
   "metadata": {},
   "outputs": [],
   "source": [
    "device = torch.device(\"cuda\")\n",
    "\n",
    "model = GoldRNN().to(device)"
   ]
  },
  {
   "cell_type": "code",
   "execution_count": 8,
   "id": "2dbc7859",
   "metadata": {},
   "outputs": [
    {
     "name": "stdout",
     "output_type": "stream",
     "text": [
      "Epoch 1, Loss=0.6932\n",
      "Epoch 2, Loss=0.6932\n",
      "Epoch 3, Loss=0.6931\n",
      "Epoch 4, Loss=0.6931\n",
      "Epoch 5, Loss=0.6931\n",
      "Epoch 6, Loss=0.6931\n",
      "Epoch 7, Loss=0.6932\n",
      "Epoch 8, Loss=0.6931\n",
      "Epoch 9, Loss=0.6931\n",
      "Epoch 10, Loss=0.6931\n"
     ]
    }
   ],
   "source": [
    "import torch.optim as optim\n",
    "\n",
    "criterion = nn.BCEWithLogitsLoss()\n",
    "optimizer = optim.Adam(model.parameters(), lr=1e-3)\n",
    "\n",
    "for epoch in range(10):\n",
    "    model.train()\n",
    "    total_loss = 0\n",
    "    for xb, yb in train_dl:\n",
    "        xb = xb.to(device)\n",
    "        yb = yb.to(device)\n",
    "        \n",
    "        optimizer.zero_grad()\n",
    "        preds = model(xb)\n",
    "        loss = criterion(preds, yb)\n",
    "        loss.backward()\n",
    "        optimizer.step()\n",
    "        \n",
    "        total_loss += loss.item() * xb.size(0)\n",
    "\n",
    "    print(f\"Epoch {epoch+1}, Loss={total_loss/len(train_dl.dataset):.4f}\")\n"
   ]
  }
 ],
 "metadata": {
  "kernelspec": {
   "display_name": ".venv",
   "language": "python",
   "name": "python3"
  },
  "language_info": {
   "codemirror_mode": {
    "name": "ipython",
    "version": 3
   },
   "file_extension": ".py",
   "mimetype": "text/x-python",
   "name": "python",
   "nbconvert_exporter": "python",
   "pygments_lexer": "ipython3",
   "version": "3.13.1"
  }
 },
 "nbformat": 4,
 "nbformat_minor": 5
}
