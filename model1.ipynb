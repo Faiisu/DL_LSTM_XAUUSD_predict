{
 "cells": [
  {
   "cell_type": "markdown",
   "id": "75437b98",
   "metadata": {},
   "source": [
    "## LSTM GOLD PREDICT"
   ]
  },
  {
   "cell_type": "code",
   "execution_count": 1,
   "id": "5023d0c8",
   "metadata": {},
   "outputs": [],
   "source": [
    "import pandas as pd"
   ]
  },
  {
   "cell_type": "code",
   "execution_count": 11,
   "id": "e3c34db9",
   "metadata": {},
   "outputs": [
    {
     "data": {
      "text/html": [
       "<div>\n",
       "<style scoped>\n",
       "    .dataframe tbody tr th:only-of-type {\n",
       "        vertical-align: middle;\n",
       "    }\n",
       "\n",
       "    .dataframe tbody tr th {\n",
       "        vertical-align: top;\n",
       "    }\n",
       "\n",
       "    .dataframe thead th {\n",
       "        text-align: right;\n",
       "    }\n",
       "</style>\n",
       "<table border=\"1\" class=\"dataframe\">\n",
       "  <thead>\n",
       "    <tr style=\"text-align: right;\">\n",
       "      <th></th>\n",
       "      <th>time</th>\n",
       "      <th>Open</th>\n",
       "      <th>High</th>\n",
       "      <th>Low</th>\n",
       "      <th>Close</th>\n",
       "      <th>TickVolume</th>\n",
       "      <th>Spread</th>\n",
       "      <th>real_volume</th>\n",
       "    </tr>\n",
       "  </thead>\n",
       "  <tbody>\n",
       "    <tr>\n",
       "      <th>0</th>\n",
       "      <td>2025-07-03 18:02:00+00:00</td>\n",
       "      <td>3328.741</td>\n",
       "      <td>3329.104</td>\n",
       "      <td>3328.741</td>\n",
       "      <td>3329.049</td>\n",
       "      <td>46</td>\n",
       "      <td>160</td>\n",
       "      <td>0</td>\n",
       "    </tr>\n",
       "    <tr>\n",
       "      <th>1</th>\n",
       "      <td>2025-07-03 18:03:00+00:00</td>\n",
       "      <td>3329.049</td>\n",
       "      <td>3329.049</td>\n",
       "      <td>3328.882</td>\n",
       "      <td>3329.027</td>\n",
       "      <td>23</td>\n",
       "      <td>160</td>\n",
       "      <td>0</td>\n",
       "    </tr>\n",
       "    <tr>\n",
       "      <th>2</th>\n",
       "      <td>2025-07-03 18:04:00+00:00</td>\n",
       "      <td>3329.026</td>\n",
       "      <td>3329.026</td>\n",
       "      <td>3328.598</td>\n",
       "      <td>3328.737</td>\n",
       "      <td>57</td>\n",
       "      <td>160</td>\n",
       "      <td>0</td>\n",
       "    </tr>\n",
       "    <tr>\n",
       "      <th>3</th>\n",
       "      <td>2025-07-03 18:05:00+00:00</td>\n",
       "      <td>3328.740</td>\n",
       "      <td>3329.134</td>\n",
       "      <td>3328.647</td>\n",
       "      <td>3329.016</td>\n",
       "      <td>52</td>\n",
       "      <td>160</td>\n",
       "      <td>0</td>\n",
       "    </tr>\n",
       "    <tr>\n",
       "      <th>4</th>\n",
       "      <td>2025-07-03 18:06:00+00:00</td>\n",
       "      <td>3329.015</td>\n",
       "      <td>3329.129</td>\n",
       "      <td>3328.962</td>\n",
       "      <td>3328.962</td>\n",
       "      <td>26</td>\n",
       "      <td>160</td>\n",
       "      <td>0</td>\n",
       "    </tr>\n",
       "  </tbody>\n",
       "</table>\n",
       "</div>"
      ],
      "text/plain": [
       "                        time      Open      High       Low     Close  \\\n",
       "0  2025-07-03 18:02:00+00:00  3328.741  3329.104  3328.741  3329.049   \n",
       "1  2025-07-03 18:03:00+00:00  3329.049  3329.049  3328.882  3329.027   \n",
       "2  2025-07-03 18:04:00+00:00  3329.026  3329.026  3328.598  3328.737   \n",
       "3  2025-07-03 18:05:00+00:00  3328.740  3329.134  3328.647  3329.016   \n",
       "4  2025-07-03 18:06:00+00:00  3329.015  3329.129  3328.962  3328.962   \n",
       "\n",
       "   TickVolume  Spread  real_volume  \n",
       "0          46     160            0  \n",
       "1          23     160            0  \n",
       "2          57     160            0  \n",
       "3          52     160            0  \n",
       "4          26     160            0  "
      ]
     },
     "execution_count": 11,
     "metadata": {},
     "output_type": "execute_result"
    }
   ],
   "source": [
    "df = pd.read_csv(\"data/M1_Y1.csv\")\n",
    "df.head()"
   ]
  },
  {
   "cell_type": "markdown",
   "id": "a726a009",
   "metadata": {},
   "source": [
    "# data pre-processing"
   ]
  },
  {
   "cell_type": "code",
   "execution_count": 32,
   "id": "8b5cde3a",
   "metadata": {},
   "outputs": [],
   "source": [
    "def split_by_calendar_bins(df,  minutes=120,time_col='time'):\n",
    "    \n",
    "    d = df.copy()\n",
    "    d[time_col] = pd.to_datetime(d[time_col], errors='coerce')\n",
    "    d = d.sort_values(time_col)\n",
    "    groups = d.groupby(pd.Grouper(key=time_col, freq=f'{minutes}min'))\n",
    "    return [g for _, g in groups if not g.empty]\n",
    "\n",
    "minute_size = 121\n",
    "list_of_df = split_by_calendar_bins(df, minute_size)\n",
    "list_of_df = [g for g in list_of_df if len(g) >= minute_size]\n",
    "\n"
   ]
  },
  {
   "cell_type": "markdown",
   "id": "39232142",
   "metadata": {},
   "source": [
    "## LSTM Model"
   ]
  },
  {
   "cell_type": "code",
   "execution_count": 33,
   "id": "acf87b31",
   "metadata": {},
   "outputs": [],
   "source": [
    "import torch\n",
    "import torch.nn as nn\n",
    "import torch.optim as optim"
   ]
  },
  {
   "cell_type": "code",
   "execution_count": 38,
   "id": "33db48ef",
   "metadata": {},
   "outputs": [],
   "source": [
    "class LSTMModel(nn.Module):\n",
    "    \n",
    "    def __init__(self, size, embedding_dim, hidden_size):\n",
    "        super(LSTMModel, self).__init__()\n",
    "        self.hidden_size = hidden_size\n",
    "        self.embedding = nn.Embedding(size, embedding_dim)\n",
    "        \n",
    "        self.lstm = nn.LSTM(input_size = embedding_dim,\n",
    "                            hidden_size = hidden_size,\n",
    "                            batch_first=True)\n",
    "        \n",
    "        self.fc = nn.Linear(hidden_size, size)\n",
    "        \n",
    "    def init_hidden(self, batch_size, device):\n",
    "        return (torch.zeroes(1, batch_size, self.hidden_size).to(device),\n",
    "                torch.zeroes(1, batch_size, self.hidden_size).to(device))\n",
    "        \n",
    "    def forward(self, x, state=None, return_state=False):\n",
    "        x = self.embedding(x)\n",
    "        \n",
    "        if state is None:\n",
    "            state = self.init_hidden(x.size(0), x.device)\n",
    "        out, state = self.lstm(x, state)\n",
    "        \n",
    "        out = self.fc(out)\n",
    "        return out if not return_state else (out, state)\n",
    "    "
   ]
  },
  {
   "cell_type": "code",
   "execution_count": null,
   "id": "966581b7",
   "metadata": {},
   "outputs": [
    {
     "name": "stdout",
     "output_type": "stream",
     "text": [
      "LSTMModel(\n",
      "  (embedding): Embedding(121, 121)\n",
      "  (lstm): LSTM(121, 1024, batch_first=True)\n",
      "  (fc): Linear(in_features=1024, out_features=121, bias=True)\n",
      ")\n"
     ]
    }
   ],
   "source": [
    "size = minute_size #idk look up later\n",
    "embedding_dim = minute_size\n",
    "hidden_size = 1024\n",
    "batch_size = 8\n",
    "\n",
    "if not torch.cuda.is_available():\n",
    "    raise \"cuda not available\"\n",
    "\n",
    "device = torch.device(\"cuda\")\n",
    "\n",
    "model = LSTMModel(size, embedding_dim, hidden_size).to(device)\n",
    "\n",
    "print(model)\n"
   ]
  }
 ],
 "metadata": {
  "kernelspec": {
   "display_name": ".venv",
   "language": "python",
   "name": "python3"
  },
  "language_info": {
   "codemirror_mode": {
    "name": "ipython",
    "version": 3
   },
   "file_extension": ".py",
   "mimetype": "text/x-python",
   "name": "python",
   "nbconvert_exporter": "python",
   "pygments_lexer": "ipython3",
   "version": "3.13.1"
  }
 },
 "nbformat": 4,
 "nbformat_minor": 5
}
